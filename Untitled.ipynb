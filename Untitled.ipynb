{
 "cells": [
  {
   "cell_type": "code",
   "execution_count": 1,
   "metadata": {},
   "outputs": [],
   "source": [
    "import pandas as pd\n",
    "\n",
    "data = pd.read_csv('./data.csv')\n",
    "\n",
    "colleges = data['Allotted Institute'].unique()\n",
    "\n",
    "\n",
    "def get_open_close(d):\n",
    "  if len(d) == 0:\n",
    "    return \"NA\",\"NA\"\n",
    "  return d[0], d[-1]\n",
    "\n",
    "def open_close(cd):\n",
    "  info = {}\n",
    "  categories = cd['Alloted Category'].unique()\n",
    "  for category in categories:\n",
    "    cat_data = cd[cd['Alloted Category'] == category]\n",
    "    o, c = get_open_close(cat_data['Rank'].values)\n",
    "    info[category] = {\n",
    "        \"total\": len(cat_data),\n",
    "        \"opening\": o,\n",
    "        \"closing\": c,\n",
    "    }\n",
    "  return info\n",
    "\n",
    "op_data = {}\n",
    "for college in colleges:\n",
    "  college_data = data[data['Allotted Institute'] == college]\n",
    "  info = open_close(college_data)\n",
    "  op_data[college] = info\n",
    "\n",
    "def get_oc(col):\n",
    "  return op_data[col]"
   ]
  },
  {
   "cell_type": "code",
   "execution_count": 4,
   "metadata": {},
   "outputs": [],
   "source": []
  },
  {
   "cell_type": "code",
   "execution_count": 5,
   "metadata": {},
   "outputs": [],
   "source": [
    "def get_my_destiny(air, category, delta):\n",
    "  cols = []\n",
    "  for c in colleges:\n",
    "    cd = op_data[c]\n",
    "    if category in cd:\n",
    "      if air < cd[category]['closing'] + delta:\n",
    "        cols.append([c, cd])\n",
    "    else:\n",
    "      if air < cd['GN']['closing'] + delta:\n",
    "        cols.append([c, cd])\n",
    "  return cols"
   ]
  },
  {
   "cell_type": "code",
   "execution_count": 6,
   "metadata": {},
   "outputs": [],
   "source": []
  },
  {
   "cell_type": "code",
   "execution_count": 8,
   "metadata": {},
   "outputs": [
    {
     "data": {
      "text/plain": [
       "{'GN': {'total': 28, 'opening': 2250, 'closing': 5015},\n",
       " 'SC': {'total': 5, 'opening': 18835, 'closing': 34970},\n",
       " 'ST': {'total': 3, 'opening': 65970, 'closing': 70982},\n",
       " 'GN PwD': {'total': 1, 'opening': 223293, 'closing': 223293}}"
      ]
     },
     "execution_count": 8,
     "metadata": {},
     "output_type": "execute_result"
    }
   ],
   "source": [
    "get_oc('NILRATAN SIRKAR MEDICAL COLLEGE, KOLKATA')"
   ]
  },
  {
   "cell_type": "code",
   "execution_count": 1,
   "metadata": {},
   "outputs": [
    {
     "ename": "ImportError",
     "evalue": "cannot import name 'FlaskForm' from 'flask' (/home/ahsan/.local/lib/python3.8/site-packages/flask/__init__.py)",
     "output_type": "error",
     "traceback": [
      "\u001b[0;31m---------------------------------------------------------------------------\u001b[0m",
      "\u001b[0;31mImportError\u001b[0m                               Traceback (most recent call last)",
      "\u001b[0;32m<ipython-input-1-2f6628606213>\u001b[0m in \u001b[0;36m<module>\u001b[0;34m\u001b[0m\n\u001b[0;32m----> 1\u001b[0;31m \u001b[0;32mfrom\u001b[0m \u001b[0mflask\u001b[0m \u001b[0;32mimport\u001b[0m \u001b[0mFlaskForm\u001b[0m\u001b[0;34m\u001b[0m\u001b[0;34m\u001b[0m\u001b[0m\n\u001b[0m",
      "\u001b[0;31mImportError\u001b[0m: cannot import name 'FlaskForm' from 'flask' (/home/ahsan/.local/lib/python3.8/site-packages/flask/__init__.py)"
     ]
    }
   ],
   "source": [
    "from flask import FlaskForm\n"
   ]
  },
  {
   "cell_type": "code",
   "execution_count": null,
   "metadata": {},
   "outputs": [],
   "source": []
  }
 ],
 "metadata": {
  "kernelspec": {
   "display_name": "Python 3",
   "language": "python",
   "name": "python3"
  },
  "language_info": {
   "codemirror_mode": {
    "name": "ipython",
    "version": 3
   },
   "file_extension": ".py",
   "mimetype": "text/x-python",
   "name": "python",
   "nbconvert_exporter": "python",
   "pygments_lexer": "ipython3",
   "version": "3.8.10"
  }
 },
 "nbformat": 4,
 "nbformat_minor": 4
}
